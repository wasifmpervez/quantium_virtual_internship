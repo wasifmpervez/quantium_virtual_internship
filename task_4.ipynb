{
 "cells": [
  {
   "cell_type": "code",
   "execution_count": 1,
   "id": "39b6466d-5ac0-4810-b030-15deeb300e37",
   "metadata": {},
   "outputs": [],
   "source": [
    "from dash import Dash, html, dcc, Input, Output\n",
    "import dash_bootstrap_components as dbc\n",
    "import plotly.express as px\n",
    "import pandas as pd"
   ]
  },
  {
   "cell_type": "markdown",
   "id": "3cea85b0-c7d4-443c-b416-969e12421e63",
   "metadata": {},
   "source": [
    "## Data Cleaning and Visualization"
   ]
  },
  {
   "cell_type": "code",
   "execution_count": 2,
   "id": "54961f8f-9c21-4aa0-bfc2-67509e4f0f22",
   "metadata": {},
   "outputs": [],
   "source": [
    "sales_df = pd.read_csv(\"data/combined_data.csv\")\n",
    "\n",
    "# sort df\n",
    "sales_df[\"date\"] = pd.to_datetime(sales_df[\"date\"])\n",
    "sales_df = sales_df.sort_values(by=[\"date\"])\n",
    "\n",
    "# list for regional filtering\n",
    "regions_list = [x.capitalize() for x in list(sales_df[\"region\"].unique())]\n",
    "regions_list.append(\"All\")"
   ]
  },
  {
   "cell_type": "markdown",
   "id": "3442fd7e-dd81-49f8-ba03-3e4ef2e7dde7",
   "metadata": {},
   "source": [
    "## Components"
   ]
  },
  {
   "cell_type": "code",
   "execution_count": 3,
   "id": "14925cef-a6bc-4bc8-9c8a-14315b4a95f6",
   "metadata": {},
   "outputs": [],
   "source": [
    "color_picker = {\n",
    "    \"primary\": \"#AA8CDB\",\n",
    "    \"secondary\": \"#8CD3DB\",\n",
    "    \"font\": \"#FFFFFF\"\n",
    "}\n",
    "\n",
    "# app\n",
    "app = Dash(__name__, external_stylesheets=[dbc.themes.LITERA])\n",
    "\n",
    "# title\n",
    "title = html.H1(\n",
    "    children=\"Pink Morsel Sales\",\n",
    "    style={\n",
    "        \"background-color\": color_picker[\"primary\"],\n",
    "        \"color\": color_picker[\"font\"],\n",
    "        # \"border-radius\": \"20px\",\n",
    "        \"padding\": \"20px\"\n",
    "    }\n",
    ")\n",
    "\n",
    "# subtitle\n",
    "subtitle = html.Div(\n",
    "    children=\"A look at sales of Soul Foods Pink Morsel candies from 2018 to 2022.\",\n",
    "    style={\n",
    "        \"margin-left\": \"20px\",\n",
    "        \"margin-top\" : \"15px\"\n",
    "    }\n",
    ")\n",
    "\n",
    "# radio button, title, wrapper\n",
    "region_list_CTA = html.Div(\n",
    "    children=\"Filter by region:\",\n",
    "    style={\"font-weight\": \"bold\"}\n",
    ")\n",
    "\n",
    "region_list = dcc.RadioItems(\n",
    "    options=[\n",
    "        {\"label\": \"North\", \"value\": \"north\"},\n",
    "        {\"label\": \"East\", \"value\": \"east\"},\n",
    "        {\"label\": \"South\", \"value\": \"south\"},\n",
    "        {\"label\": \"West\", \"value\": \"west\"},\n",
    "        {\"label\": \"All\", \"value\": \"all\"}\n",
    "    ],\n",
    "    value=\"all\",\n",
    "    id=\"regions-radio\",\n",
    "    inline=True,\n",
    "    labelStyle={\n",
    "        \"margin-right\": \"20px\"\n",
    "    },\n",
    "    inputStyle={\n",
    "        \"margin-right\": \"5px\"\n",
    "    }\n",
    ")\n",
    "\n",
    "region_list_wrapper = html.Div(\n",
    "    children=[\n",
    "        region_list_CTA,\n",
    "        region_list\n",
    "    ],\n",
    "    style={\n",
    "        \"margin-left\": \"20px\"\n",
    "    }\n",
    ")\n",
    "\n",
    "# visualization\n",
    "fig = px.line(sales_df, x=\"date\", y=\"sales\")\n",
    "visualization = dcc.Graph(\n",
    "        id=\"line-graph\"\n",
    "    )\n",
    "\n",
    "@app.callback(\n",
    "    Output(\"line-graph\", \"figure\"),\n",
    "    Input(\"regions-radio\", \"value\")\n",
    ")\n",
    "def update_graph(selected_region):\n",
    "    if selected_region == \"all\":\n",
    "        filtered_df = sales_df\n",
    "    else:\n",
    "        region_filter = sales_df[\"region\"] == selected_region.lower()\n",
    "        filtered_df = sales_df[region_filter]\n",
    "    \n",
    "    fig = px.line(filtered_df, x=\"date\", y=\"sales\")\n",
    "    return fig"
   ]
  },
  {
   "cell_type": "code",
   "execution_count": 4,
   "id": "03155bc1-68bf-497c-9456-5e2effb25507",
   "metadata": {},
   "outputs": [
    {
     "data": {
      "text/html": [
       "\n",
       "        <iframe\n",
       "            width=\"100%\"\n",
       "            height=\"650\"\n",
       "            src=\"http://127.0.0.1:8050/\"\n",
       "            frameborder=\"0\"\n",
       "            allowfullscreen\n",
       "            \n",
       "        ></iframe>\n",
       "        "
      ],
      "text/plain": [
       "<IPython.lib.display.IFrame at 0x1c6c4974490>"
      ]
     },
     "metadata": {},
     "output_type": "display_data"
    }
   ],
   "source": [
    "# app\n",
    "app.layout = html.Div(\n",
    "    children=[\n",
    "        title,\n",
    "        subtitle,\n",
    "        visualization,\n",
    "        region_list_wrapper\n",
    "    ]\n",
    ")\n",
    "\n",
    "if __name__ == '__main__':\n",
    "    app.run(debug=True)"
   ]
  }
 ],
 "metadata": {
  "kernelspec": {
   "display_name": "Python 3 (ipykernel)",
   "language": "python",
   "name": "python3"
  },
  "language_info": {
   "codemirror_mode": {
    "name": "ipython",
    "version": 3
   },
   "file_extension": ".py",
   "mimetype": "text/x-python",
   "name": "python",
   "nbconvert_exporter": "python",
   "pygments_lexer": "ipython3",
   "version": "3.11.7"
  }
 },
 "nbformat": 4,
 "nbformat_minor": 5
}
