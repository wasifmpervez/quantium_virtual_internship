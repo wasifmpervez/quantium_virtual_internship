{
 "cells": [
  {
   "cell_type": "code",
   "execution_count": 1,
   "id": "b33053d8-a13c-410f-a741-5dc3d6fc6644",
   "metadata": {},
   "outputs": [
    {
     "data": {
      "text/html": [
       "\n",
       "        <iframe\n",
       "            width=\"100%\"\n",
       "            height=\"650\"\n",
       "            src=\"http://127.0.0.1:8050/\"\n",
       "            frameborder=\"0\"\n",
       "            allowfullscreen\n",
       "            \n",
       "        ></iframe>\n",
       "        "
      ],
      "text/plain": [
       "<IPython.lib.display.IFrame at 0x21c37232f90>"
      ]
     },
     "metadata": {},
     "output_type": "display_data"
    }
   ],
   "source": [
    "from dash import Dash, html, dcc\n",
    "import plotly.express as px\n",
    "import pandas as pd\n",
    "\n",
    "app = Dash(__name__)\n",
    "\n",
    "sales_df = pd.read_csv(\"data/combined_data.csv\")\n",
    "\n",
    "# sorting df\n",
    "sales_df[\"date\"] = pd.to_datetime(sales_df[\"date\"])\n",
    "sales_df = sales_df.sort_values(by=[\"date\"])\n",
    "\n",
    "# graph\n",
    "fig = px.line(sales_df, x=\"date\", y=\"sales\")\n",
    "\n",
    "app.layout = html.Div(children=[\n",
    "    html.H1(children='Pink Morsel Sales'),\n",
    "\n",
    "    html.Div(children='''\n",
    "        A look at sales of Soul Foods Pink Morsel candies from 2018 to 2022.\n",
    "    '''),\n",
    "\n",
    "    dcc.Graph(\n",
    "        id='example-graph',\n",
    "        figure=fig\n",
    "    )\n",
    "])\n",
    "\n",
    "if __name__ == '__main__':\n",
    "    app.run(debug=True)"
   ]
  }
 ],
 "metadata": {
  "kernelspec": {
   "display_name": "Python 3 (ipykernel)",
   "language": "python",
   "name": "python3"
  },
  "language_info": {
   "codemirror_mode": {
    "name": "ipython",
    "version": 3
   },
   "file_extension": ".py",
   "mimetype": "text/x-python",
   "name": "python",
   "nbconvert_exporter": "python",
   "pygments_lexer": "ipython3",
   "version": "3.11.7"
  }
 },
 "nbformat": 4,
 "nbformat_minor": 5
}
