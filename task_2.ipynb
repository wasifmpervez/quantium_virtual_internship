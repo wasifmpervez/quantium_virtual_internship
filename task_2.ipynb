{
 "cells": [
  {
   "cell_type": "code",
   "execution_count": 1,
   "id": "c9c51f00-34a6-4bbc-99ea-24647b621b96",
   "metadata": {},
   "outputs": [],
   "source": [
    "import os\n",
    "import re\n",
    "import pandas as pd"
   ]
  },
  {
   "cell_type": "code",
   "execution_count": 2,
   "id": "bf36979a-16c8-41f6-8720-7f9c50bf1458",
   "metadata": {},
   "outputs": [],
   "source": [
    "# combine data\n",
    "data_files = []\n",
    "data_path = os.getcwd() + \"\\\\data\"\n",
    "\n",
    "for fn in os.listdir(data_path):\n",
    "    if fn.endswith('csv'):\n",
    "        temp_df = pd.read_csv(data_path + '/' + fn)\n",
    "        data_files.append(temp_df)\n",
    "\n",
    "combined_df = pd.concat(data_files)"
   ]
  },
  {
   "cell_type": "code",
   "execution_count": 3,
   "id": "5e1d8c92-396e-40ca-9d5c-468cc9eae2e8",
   "metadata": {},
   "outputs": [],
   "source": [
    "# narrowing down to pink morsels only\n",
    "BM = combined_df[\"product\"] == \"pink morsel\"\n",
    "combined_df = combined_df[BM]"
   ]
  },
  {
   "cell_type": "code",
   "execution_count": 4,
   "id": "d3bdb02e-6a10-4027-a14c-215e7093698b",
   "metadata": {},
   "outputs": [],
   "source": [
    "# convert price to numeric variable\n",
    "def convert_price_to_float(price):\n",
    "    return float(price.split(\"$\")[1])\n",
    "\n",
    "combined_df[\"price\"] = combined_df[\"price\"].apply(convert_price_to_float)"
   ]
  },
  {
   "cell_type": "code",
   "execution_count": 5,
   "id": "37b40b2d-e308-43b9-a7b9-00dcb57dba9d",
   "metadata": {},
   "outputs": [],
   "source": [
    "# create sales column\n",
    "combined_df[\"sales\"] = combined_df[\"price\"] * combined_df[\"quantity\"]"
   ]
  },
  {
   "cell_type": "code",
   "execution_count": 6,
   "id": "4011f84b-d542-4a30-a424-a669ca74c2eb",
   "metadata": {},
   "outputs": [],
   "source": [
    "# drop extra columns\n",
    "combined_df = combined_df[[\"date\", \"region\", \"sales\"]]"
   ]
  },
  {
   "cell_type": "code",
   "execution_count": 8,
   "id": "7d8f8ece-1a40-4360-bf65-7f24ac073099",
   "metadata": {},
   "outputs": [],
   "source": [
    "combined_df.to_csv('data/combined_data.csv', index=False) "
   ]
  }
 ],
 "metadata": {
  "kernelspec": {
   "display_name": "Python 3 (ipykernel)",
   "language": "python",
   "name": "python3"
  },
  "language_info": {
   "codemirror_mode": {
    "name": "ipython",
    "version": 3
   },
   "file_extension": ".py",
   "mimetype": "text/x-python",
   "name": "python",
   "nbconvert_exporter": "python",
   "pygments_lexer": "ipython3",
   "version": "3.11.7"
  }
 },
 "nbformat": 4,
 "nbformat_minor": 5
}
